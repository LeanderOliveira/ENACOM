{
 "cells": [
  {
   "cell_type": "code",
   "execution_count": null,
   "id": "921d35dc",
   "metadata": {},
   "outputs": [],
   "source": [
    "pip install pulp"
   ]
  },
  {
   "cell_type": "code",
   "execution_count": 4,
   "id": "a3410106",
   "metadata": {},
   "outputs": [
    {
     "name": "stdout",
     "output_type": "stream",
     "text": [
      "Optimal\n",
      "Total dos valores investidos R$: 990000.0\n",
      "\n",
      "Melhores escolhas:\n",
      "Op2_Ampliação_da_capacidade_do_armazém_MGL_em_7%\n",
      "Op4_Projeto_de_P&D_I_\n",
      "Op6_Aquisição_de_novos_equipamentos\n",
      "Op7_Capacitação_de_funcionários\n"
     ]
    }
   ],
   "source": [
    "import pulp as p\n",
    "\n",
    "#Setando o problema\n",
    "prob = p.LpProblem('Desafio Investimento ENACOM', p.LpMaximize)\n",
    "\n",
    "# Definindo as variáveis de decisão\n",
    "op1 = p.LpVariable(\"Op1 Ampliação da capacidade do armazém ZDP em 5%\", lowBound=0, cat='Binary')\n",
    "op2 = p.LpVariable(\"Op2 Ampliação da capacidade do armazém MGL em 7%\", lowBound=0, cat='Binary')\n",
    "op3 = p.LpVariable(\"Op3 Compra de empilhadeira \", lowBound=0, cat='Binary')\n",
    "op4 = p.LpVariable(\"Op4 Projeto de P&D I \", lowBound=0, cat='Binary')\n",
    "op5 = p.LpVariable(\"Op5 Projeto de P&D II \", lowBound=0, cat='Binary')\n",
    "op6 = p.LpVariable(\"Op6 Aquisição de novos equipamentos\", lowBound=0, cat='Binary')\n",
    "op7 = p.LpVariable(\"Op7 Capacitação de funcionários\", lowBound=0, cat='Binary')\n",
    "op8 = p.LpVariable(\"Op8 Ampliação da estrutura de carga rodoviária\", lowBound=0, cat='Binary')\n",
    "\n",
    "# Definindo o custo do investimento\n",
    "prob += 470_000*op1 + 400_000*op2 + 170_000*op3 + 270_000*op4 + 340_000*op5 + 230_000*op6 + 50_000*op7 + 440_000*op8 <= 1_000_000\n",
    "\n",
    "# Definindo o retorno esperado\n",
    "prob += 410_000*op1 + 330_000*op2 + 140_000*op3 + 250_000*op4 + 320_000*op5 + 320_000*op6 + 90_000*op7 + 190_000*op8\n",
    "\n",
    "# 1ª restrição\n",
    "prob += op1 <= 1 - op5\n",
    "\n",
    "# 2ª restrição\n",
    "prob += op2 <= op4 \n",
    "\n",
    "# Chamando o método Solve\n",
    "status =  prob.solve()\n",
    "print(p.LpStatus[status])\n",
    "print('Total dos valores investidos R$:',p.value(prob.objective))\n",
    "print('\\nMelhores escolhas:')\n",
    "\n",
    "for op in prob.variables():\n",
    "    if op.varValue == 1:\n",
    "        print(op.name)\n"
   ]
  },
  {
   "cell_type": "code",
   "execution_count": null,
   "id": "1400ad99",
   "metadata": {},
   "outputs": [],
   "source": []
  }
 ],
 "metadata": {
  "kernelspec": {
   "display_name": "Python 3",
   "language": "python",
   "name": "python3"
  },
  "language_info": {
   "codemirror_mode": {
    "name": "ipython",
    "version": 3
   },
   "file_extension": ".py",
   "mimetype": "text/x-python",
   "name": "python",
   "nbconvert_exporter": "python",
   "pygments_lexer": "ipython3",
   "version": "3.10.8"
  }
 },
 "nbformat": 4,
 "nbformat_minor": 5
}
